{
  "nbformat": 4,
  "nbformat_minor": 0,
  "metadata": {
    "colab": {
      "provenance": []
    },
    "kernelspec": {
      "name": "python3",
      "display_name": "Python 3"
    },
    "language_info": {
      "name": "python"
    }
  },
  "cells": [
    {
      "cell_type": "code",
      "source": [
        "!pip install feedparser\n",
        "!pip install requests beautifulsoup4 pandas"
      ],
      "metadata": {
        "colab": {
          "base_uri": "https://localhost:8080/"
        },
        "id": "r_tnLxITAINv",
        "outputId": "30ecd217-8a23-4ab0-9fa8-a1e7c7e7853f"
      },
      "execution_count": null,
      "outputs": [
        {
          "output_type": "stream",
          "name": "stdout",
          "text": [
            "Collecting feedparser\n",
            "  Downloading feedparser-6.0.11-py3-none-any.whl (81 kB)\n",
            "\u001b[?25l     \u001b[90m━━━━━━━━━━━━━━━━━━━━━━━━━━━━━━━━━━━━━━━━\u001b[0m \u001b[32m0.0/81.3 kB\u001b[0m \u001b[31m?\u001b[0m eta \u001b[36m-:--:--\u001b[0m\r\u001b[2K     \u001b[90m━━━━━━━━━━━━━━━━━━━━━━━━━━━━━━━━━━━━━━━━\u001b[0m \u001b[32m81.3/81.3 kB\u001b[0m \u001b[31m3.1 MB/s\u001b[0m eta \u001b[36m0:00:00\u001b[0m\n",
            "\u001b[?25hCollecting sgmllib3k (from feedparser)\n",
            "  Downloading sgmllib3k-1.0.0.tar.gz (5.8 kB)\n",
            "  Preparing metadata (setup.py) ... \u001b[?25l\u001b[?25hdone\n",
            "Building wheels for collected packages: sgmllib3k\n",
            "  Building wheel for sgmllib3k (setup.py) ... \u001b[?25l\u001b[?25hdone\n",
            "  Created wheel for sgmllib3k: filename=sgmllib3k-1.0.0-py3-none-any.whl size=6049 sha256=686e858f72c7adca15cc6aa41043dff3a0e9680be333e5130137453737078d5e\n",
            "  Stored in directory: /root/.cache/pip/wheels/f0/69/93/a47e9d621be168e9e33c7ce60524393c0b92ae83cf6c6e89c5\n",
            "Successfully built sgmllib3k\n",
            "Installing collected packages: sgmllib3k, feedparser\n",
            "Successfully installed feedparser-6.0.11 sgmllib3k-1.0.0\n"
          ]
        }
      ]
    },
    {
      "cell_type": "code",
      "source": [
        "import feedparser\n",
        "import datetime\n",
        "!pip install newspaper3k\n",
        "from newspaper import Article\n",
        "import nltk\n",
        "nltk.download('punkt')"
      ],
      "metadata": {
        "id": "pnqvYlTjA4ep"
      },
      "execution_count": null,
      "outputs": []
    },
    {
      "cell_type": "code",
      "source": [
        "def scrape_website(url):\n",
        "  toi_article = Article(url, language=\"en\")\n",
        "  toi_article.download()\n",
        "  toi_article.parse()\n",
        "  toi_article.nlp()\n",
        "  return {'title':toi_article.title,'text':toi_article.text,'summary':toi_article.summary,'keywords':toi_article.keywords}"
      ],
      "metadata": {
        "id": "BvbMVKGFOnaS"
      },
      "execution_count": null,
      "outputs": []
    },
    {
      "cell_type": "code",
      "source": [
        "def scrape_google_news_feed(query):\n",
        "    rss_url = f'https://news.google.com/rss/search?q={query}&hl=en-US&gl=US&ceid=US:en'\n",
        "    feed = feedparser.parse(rss_url)\n",
        "    current_time = datetime.datetime.now()\n",
        "    news=[]\n",
        "    if feed.entries:\n",
        "        for entry in feed.entries:\n",
        "            pubdate = datetime.datetime.strptime(entry.published, '%a, %d %b %Y %H:%M:%S %Z')\n",
        "            time_difference = current_time - pubdate\n",
        "            if time_difference.total_seconds() <= 24 * 60 * 60:\n",
        "                title = entry.title\n",
        "                link = entry.link\n",
        "                description = entry.description\n",
        "                pubdate = entry.published\n",
        "                source = entry.source\n",
        "                try:\n",
        "                  content=scrape_website(link)\n",
        "                  news.append({'title':content['title'],'summary':content['summary'],'keywords':\" ,\".join(content['keywords']),'source':source})\n",
        "                except:\n",
        "                  news.append({'title':title,'source':source})\n",
        "    return news"
      ],
      "metadata": {
        "id": "IrIDW9TYBvha"
      },
      "execution_count": null,
      "outputs": []
    },
    {
      "cell_type": "code",
      "source": [
        "def print_data(news):\n",
        "  for x in news:\n",
        "    for i in x.keys():\n",
        "      print(i,\"--\",x[i])\n",
        "      print()\n",
        "    print()\n",
        "    print()\n",
        "    print()"
      ],
      "metadata": {
        "id": "h2NfTiWsVUYy"
      },
      "execution_count": null,
      "outputs": []
    },
    {
      "cell_type": "code",
      "source": [
        "news=scrape_google_news_feed(\"RIL\")"
      ],
      "metadata": {
        "id": "fewEyxwJB3eG"
      },
      "execution_count": 115,
      "outputs": []
    },
    {
      "cell_type": "code",
      "source": [
        "print_data(news)"
      ],
      "metadata": {
        "colab": {
          "base_uri": "https://localhost:8080/"
        },
        "id": "xXRu2KS7RWCq",
        "outputId": "f4220854-e3b4-41ac-fdc6-1234fe8baeef"
      },
      "execution_count": 116,
      "outputs": [
        {
          "output_type": "stream",
          "name": "stdout",
          "text": [
            "title -- 2 Qwik Supply directors linked to Reliance entities; not subsidiary: RIL\n",
            "\n",
            "summary -- MUMBAI: Qwik Supply Chain , a little known company, has emerged as the third-largest buyer of electoral bonds at Rs 410 crore with at least two directors of the firm linked to some entities of Reliance Industries Ltd (RIL).A RIL spokesperson, however, said Qwik Supply Chain is not a subsidiary of any Reliance entity.Among the three directors of Qwik Supply Chain, Tapas Mitra holds directorships in 26 other companies, while Vipul Mehta is associated with eight additional entities.Mitra's directorships include partnership firms such as Reliance Eros Productions LLP and corporations such as Jamnagar Kandla Pipeline Company Private Limited, which shares an address with several other Reliance entities in Ahmedabad.\n",
            "Mitra, who identifies himself as the Head of Accounts at Reliance Industries on LinkedIn, oversees accounts and commercial operations across various companies within the group.Another director at Qwik Supply Chain is Mahesh Mungekar, who also holds directorial roles at Reliance Group entities like Reliance Telecom and Reliance Communications Infrastructure Limited.The shareholders receiving bonus shares include Reliance Fire Brigade Services Private Limited, Reliance Group Support Services Private Limited, Vibrant Advertising Private Limited, Imaginationworks Production Company Private Limited, Reliance Hospital Management Services Private Limited, and Gujarat Petcoke and Petroproducts Supply Private Limited, data showed.During the fiscal year 2021-22, the company'spolitical contributions amounted to Rs 360 crore, while some reports said its net profit stood was only Rs 21.7 crore.\n",
            "In the subsequent year, an additional Rs 50 crore was donated.On Nov 28, 2022, the company's board passed a resolution to allocate bonus equity shares to existing shareholders.\n",
            "This resolution authorised the issuance of 12,95,43,000 bonus equity shares, valued at Rs 10 each, from the company's profit and loss account.\n",
            "Shareholders will receive these shares in a ratio of 290:1, resulting in a capital increase of Rs 129,54,30,000.Furthermore, the board empowered Tapas Mitra, Vikram Misra, and Vipul Mehta, as well as any one director of the company, to undertake necessary actions related to the allotment of bonus equity shares.\n",
            "\n",
            "keywords -- ril ,limited ,rs ,company ,linked ,qwik ,private ,shares ,reliance ,chain ,crore ,subsidiary ,directors ,entities ,supply\n",
            "\n",
            "source -- {'href': 'https://timesofindia.indiatimes.com', 'title': 'The Times of India'}\n",
            "\n",
            "\n",
            "\n",
            "\n",
            "title -- Ape-Ril Special #1 Preview: Simian Shenanigans Ensue - Bleeding Cool News\n",
            "\n",
            "source -- {'href': 'https://bleedingcool.com', 'title': 'Bleeding Cool News'}\n",
            "\n",
            "\n",
            "\n",
            "\n",
            "title -- Directors of owner firms of Donor No. 3 Qwik Supply are Reliance executives\n",
            "\n",
            "summary -- Qwik Supply Chain Private Ltd, a warehouse and storage company, that purchased electoral bonds worth Rs 410 crore, is associated with Reliance Industries Limited (RIL), given that directors in the shareholder companies of Qwik Supply are serving or retired top executives of RIL.\n",
            "Further, one of the directors in Qwik Supply Chain is also a director in several companies such as Reliance Polyester Private Limited, Reliance Oil and Petroleum Private Limited, Reliance First Private Limited, and Reliance Fire Brigade Services Private Limited.\n",
            "AdvertisementWhen contacted, an RIL spokesperson only said that Qwik Supply is “not a subsidiary of RIL”.\n",
            "He did not respond to questions on the ownership of Qwik Supply and the link of its shareholders with RIL promoter Mukesh Ambani.\n",
            "In these three years, its net profit was Rs 24.24 crore, Rs 22.09 crore and Rs 33.65 crore, respectively.\n",
            "\n",
            "keywords -- ril ,donor ,limited ,executives ,owner ,rs ,firms ,qwik ,private ,reliance ,companies ,crore ,pvt ,directors ,supply\n",
            "\n",
            "source -- {'href': 'https://indianexpress.com', 'title': 'The Indian Express'}\n",
            "\n",
            "\n",
            "\n",
            "\n"
          ]
        }
      ]
    },
    {
      "cell_type": "code",
      "source": [],
      "metadata": {
        "id": "JJhtzZLGV0ae"
      },
      "execution_count": null,
      "outputs": []
    }
  ]
}